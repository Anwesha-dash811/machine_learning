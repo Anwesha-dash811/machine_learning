{
  "nbformat": 4,
  "nbformat_minor": 0,
  "metadata": {
    "colab": {
      "name": "predictive_modelling.ipynb",
      "provenance": [],
      "collapsed_sections": [],
      "toc_visible": true,
      "authorship_tag": "ABX9TyNwJR+Dl/6A1FtJ/9z+n6pQ",
      "include_colab_link": true
    },
    "kernelspec": {
      "name": "python3",
      "display_name": "Python 3"
    }
  },
  "cells": [
    {
      "cell_type": "markdown",
      "metadata": {
        "id": "view-in-github",
        "colab_type": "text"
      },
      "source": [
        "<a href=\"https://colab.research.google.com/github/Anwesha-dash811/machine_learning/blob/main/predictive_modelling.ipynb\" target=\"_parent\"><img src=\"https://colab.research.google.com/assets/colab-badge.svg\" alt=\"Open In Colab\"/></a>"
      ]
    },
    {
      "cell_type": "markdown",
      "metadata": {
        "id": "OKdkpZJJGIty"
      },
      "source": [
        "### ***CRITICAL REVIEW AND ANALYSIS OF LIBRARIES AND TECHNIQUES USED HERE***\r\n",
        "###### **INTRODUCTION**\r\n",
        "Machine learning is usually of two types and those are supervised and unsupervised machine learning and these techniques are used to create the prediction models and analysis of the data.There is anothertype of machine learning technique which is semi-supervised learning but it is not used widely.\r\n",
        "In practical cases,supervised machie learning is used as all the  data is labeled and the algorithms learn to predict the output from the input data only and it is quite simple to use and all datas are labeled which implies that implies that some data is already tagged with the correct answer such that the achine can predict the object easily as it is traied with the names previously but in unsupervised machine learning all the datas are unlabelled.Supervised learning problems can be grouped into regression and classification problems.\r\n",
        "The advantages of using supervised machine learning are that \r\n",
        "supervised machine learning allows collecting data and produce  data output from the previous experiences.It helps to optimize performance criteria with the help of experience.\r\n",
        "It is the widely used machine learning in different practical fields.\r\n",
        "The various types of supervised machine learning algorithms and those are:\r\n",
        "*   LINEAR REGRESSION:Regression technique predicts a single output value using training data.\r\n",
        "*   LOGISTIC REGRESSION:Logistic regression method used to estimate discrete values based on given a set of independent variables. It helps you to predicts the probability of occurrence of an event by fitting data to a logit function. \r\n",
        "*   Classification:Classification means to group the output inside a class. If the algorithm tries to label input into two distinct classes, it is called binary classification. Selecting between more than two classes is referred to as multiclass classification.\r\n",
        "*   Naive Bayes Classifiers:Naive Bayesian model is easy to build and very useful for large datasets. This method is composed of direct acyclic graphs with one parent and several children. It assumes independence among child nodes separated from their parent.\r\n",
        "*   Decision Trees:Decisions trees classify instance by sorting them based on the feature value. In this method, each mode is the feature of an instance. It should be classified, and every branch represents a value which the node can assume. It is a widely used technique for classification. In this method, classification is a tree which is known as a decision tree.\r\n",
        "*   Support Vector Machine\r\n",
        "Here,it is required to create a predictive model which typically includes machine learning algorithm.The model is trained to respond to new data or values providing the results as per our requirement.There are two types of predidctive models and those are: Classification models and Regression models.The widely used predictive models are:\r\n",
        "*   Decision Trees:Decision trees are a simple, but powerful form of multiple variable analysis. They are produced by algorithms that identify various ways of splitting data into branch-like segments. Decision trees partition data into subsets based on categories of input variables, helping you to understand someone’s path of decisions.\r\n",
        "\r\n",
        "*   Neural Networks:Patterned after the operation of neuronsin the human brain, neural networks (also called artificial neural networks) are a variety of deep learning technologies. They’re typically used to solve complex pattern recognition problems – and are incredibly useful for analysing large data sets. They are great at handling nonlinear relationships in data – and work well when certain variables are unknown.\r\n",
        "\r\n",
        "*   Regression(linear and logistic):Regression is one of the most popular methods in statistics. Regression analysis estimates relationships among variables, finding key patterns in large and diverse data sets and how they relate to each other.\r\n",
        "\r\n",
        "Here we have used linear regression model to perform the predictive analysis.The equation of the linear regression line is in the form Y =mX+c, where X is the explanatory(independent) variable and Y is the dependent variable. The slope of the line is m, and c is the intercept (the value of y when x = 0).This procedure is used here for prediction analysis.\r\n",
        "Linear regression calculates an equation that minimizes the distance between the fitted line and all of the data points. Technically, ordinary least squares regression minimizes the sum of the squared residuals.A model fits the data well if the differences between the observed values and the model's predicted values are small.Residual plots can reveal unwanted residual patterns that indicate biased results more effectively than numbers. When your residual plots pass muster, you can trust your numerical results and check the goodness-of-fit statistics.\r\n",
        "###### **PROCEDURE**\r\n",
        "Pandas,numpy,seaborn,matplotlib and sklearn libraries are imported here as we have to read the dataset and explore the datas so,pandas is used here.Numpy is used for mathematical calculations to be performed here.Matplotlib and seaborn are used for visualization of plots.Sklearn is used for modelling.First the dataset is read using pandas and the columns,info and description of the dataset are explored which is called data exploration using the pandas. \r\n",
        "Then,visualizations are done comparing the month and the orders taken to find the amount of orders taken in a montha nd as per the last example given,the amount of orders predicted to be taken in the month of december and these visualizations are performed using matplotlib and seaborn.Line plot ans regression plot are performed using seaborn and others are ploted using matplotlib.\r\n",
        "Data training and testing is done in the second step to create the predictive model. The data is preapared first using pandas and then it is splited to train and test dataset.There are various methods to validate your model performance, I would suggest you to divide your train data set into Train and validate and build model based on 70% of train data set\r\n",
        "and then,it is finally trained and then those training and testing datas are plotted using the linear regression formula which is y=mx+c with the help of matplotlib library.\r\n",
        "These trained algorithms are used to predict the algorithms and find the predicted values.The predicted values and actual values are displayed and we can see that the actual and predicted values are same which means that the model is a good fit model but still we should calculate the accuracy of the model to find out if it is a good fit model or poor fit model or under fit model and finaly we cae to the conclusion that it is a good fit model\r\n",
        "The final step is to evaluate the performance of algorithm. This step is particularly important to compare how well different algorithms perform on a particular dataset. For simplicity here, we have chosen the mean square error."
      ]
    },
    {
      "cell_type": "markdown",
      "metadata": {
        "id": "Yb44HfgEGPFT"
      },
      "source": [
        "### ***IMPORTING AND READING THE DATA FROM DATASET***"
      ]
    },
    {
      "cell_type": "code",
      "metadata": {
        "id": "vHsYoiBxX39E"
      },
      "source": [
        "import pandas as pd\r\n",
        "import numpy as np  \r\n",
        "import matplotlib.pyplot as plt  \r\n",
        "import seaborn as sns\r\n",
        "%matplotlib inline"
      ],
      "execution_count": null,
      "outputs": []
    },
    {
      "cell_type": "code",
      "metadata": {
        "id": "4IFLXYBXsRBA"
      },
      "source": [
        "df=pd.read_csv('e-shop clothing 2008.csv')"
      ],
      "execution_count": null,
      "outputs": []
    },
    {
      "cell_type": "code",
      "metadata": {
        "colab": {
          "base_uri": "https://localhost:8080/",
          "height": 255
        },
        "id": "lJeZvsECscB0",
        "outputId": "497aa446-9bf5-4357-ae5b-accdcca55cf5"
      },
      "source": [
        "print(\"Data imported successfully\")\r\n",
        "df.head()\r\n"
      ],
      "execution_count": null,
      "outputs": [
        {
          "output_type": "stream",
          "text": [
            "Data imported successfully\n"
          ],
          "name": "stdout"
        },
        {
          "output_type": "execute_result",
          "data": {
            "text/html": [
              "<div>\n",
              "<style scoped>\n",
              "    .dataframe tbody tr th:only-of-type {\n",
              "        vertical-align: middle;\n",
              "    }\n",
              "\n",
              "    .dataframe tbody tr th {\n",
              "        vertical-align: top;\n",
              "    }\n",
              "\n",
              "    .dataframe thead th {\n",
              "        text-align: right;\n",
              "    }\n",
              "</style>\n",
              "<table border=\"1\" class=\"dataframe\">\n",
              "  <thead>\n",
              "    <tr style=\"text-align: right;\">\n",
              "      <th></th>\n",
              "      <th>year</th>\n",
              "      <th>month</th>\n",
              "      <th>day</th>\n",
              "      <th>order</th>\n",
              "      <th>country</th>\n",
              "      <th>session ID</th>\n",
              "      <th>page 1 (main category)</th>\n",
              "      <th>page 2 (clothing model)</th>\n",
              "      <th>colour</th>\n",
              "      <th>location</th>\n",
              "      <th>model photography</th>\n",
              "      <th>price</th>\n",
              "      <th>price 2</th>\n",
              "      <th>page</th>\n",
              "    </tr>\n",
              "  </thead>\n",
              "  <tbody>\n",
              "    <tr>\n",
              "      <th>0</th>\n",
              "      <td>2008</td>\n",
              "      <td>4</td>\n",
              "      <td>1</td>\n",
              "      <td>1</td>\n",
              "      <td>29</td>\n",
              "      <td>1</td>\n",
              "      <td>1</td>\n",
              "      <td>A13</td>\n",
              "      <td>1</td>\n",
              "      <td>5</td>\n",
              "      <td>1</td>\n",
              "      <td>28</td>\n",
              "      <td>2</td>\n",
              "      <td>1</td>\n",
              "    </tr>\n",
              "    <tr>\n",
              "      <th>1</th>\n",
              "      <td>2008</td>\n",
              "      <td>4</td>\n",
              "      <td>1</td>\n",
              "      <td>2</td>\n",
              "      <td>29</td>\n",
              "      <td>1</td>\n",
              "      <td>1</td>\n",
              "      <td>A16</td>\n",
              "      <td>1</td>\n",
              "      <td>6</td>\n",
              "      <td>1</td>\n",
              "      <td>33</td>\n",
              "      <td>2</td>\n",
              "      <td>1</td>\n",
              "    </tr>\n",
              "    <tr>\n",
              "      <th>2</th>\n",
              "      <td>2008</td>\n",
              "      <td>4</td>\n",
              "      <td>1</td>\n",
              "      <td>3</td>\n",
              "      <td>29</td>\n",
              "      <td>1</td>\n",
              "      <td>2</td>\n",
              "      <td>B4</td>\n",
              "      <td>10</td>\n",
              "      <td>2</td>\n",
              "      <td>1</td>\n",
              "      <td>52</td>\n",
              "      <td>1</td>\n",
              "      <td>1</td>\n",
              "    </tr>\n",
              "    <tr>\n",
              "      <th>3</th>\n",
              "      <td>2008</td>\n",
              "      <td>4</td>\n",
              "      <td>1</td>\n",
              "      <td>4</td>\n",
              "      <td>29</td>\n",
              "      <td>1</td>\n",
              "      <td>2</td>\n",
              "      <td>B17</td>\n",
              "      <td>6</td>\n",
              "      <td>6</td>\n",
              "      <td>2</td>\n",
              "      <td>38</td>\n",
              "      <td>2</td>\n",
              "      <td>1</td>\n",
              "    </tr>\n",
              "    <tr>\n",
              "      <th>4</th>\n",
              "      <td>2008</td>\n",
              "      <td>4</td>\n",
              "      <td>1</td>\n",
              "      <td>5</td>\n",
              "      <td>29</td>\n",
              "      <td>1</td>\n",
              "      <td>2</td>\n",
              "      <td>B8</td>\n",
              "      <td>4</td>\n",
              "      <td>3</td>\n",
              "      <td>2</td>\n",
              "      <td>52</td>\n",
              "      <td>1</td>\n",
              "      <td>1</td>\n",
              "    </tr>\n",
              "  </tbody>\n",
              "</table>\n",
              "</div>"
            ],
            "text/plain": [
              "   year  month  day  order  ...  model photography  price  price 2 page\n",
              "0  2008      4    1      1  ...                  1     28        2    1\n",
              "1  2008      4    1      2  ...                  1     33        2    1\n",
              "2  2008      4    1      3  ...                  1     52        1    1\n",
              "3  2008      4    1      4  ...                  2     38        2    1\n",
              "4  2008      4    1      5  ...                  2     52        1    1\n",
              "\n",
              "[5 rows x 14 columns]"
            ]
          },
          "metadata": {
            "tags": []
          },
          "execution_count": 35
        }
      ]
    },
    {
      "cell_type": "markdown",
      "metadata": {
        "id": "FaGymnYNX7jG"
      },
      "source": [
        "### ***DATA EXPLORATION***"
      ]
    },
    {
      "cell_type": "code",
      "metadata": {
        "colab": {
          "base_uri": "https://localhost:8080/"
        },
        "id": "KXJyVzpOsmMw",
        "outputId": "89546ac0-323e-4593-aad3-c4bc48c72f95"
      },
      "source": [
        "df.columns"
      ],
      "execution_count": null,
      "outputs": [
        {
          "output_type": "execute_result",
          "data": {
            "text/plain": [
              "Index(['year', 'month', 'day', 'order', 'country', 'session ID',\n",
              "       'page 1 (main category)', 'page 2 (clothing model)', 'colour',\n",
              "       'location', 'model photography', 'price', 'price 2', 'page'],\n",
              "      dtype='object')"
            ]
          },
          "metadata": {
            "tags": []
          },
          "execution_count": 36
        }
      ]
    },
    {
      "cell_type": "code",
      "metadata": {
        "colab": {
          "base_uri": "https://localhost:8080/"
        },
        "id": "AV9NUFTBx47t",
        "outputId": "3465f1b4-fd34-4ef0-dc21-5f27041defeb"
      },
      "source": [
        "df['year'].sample(25)"
      ],
      "execution_count": null,
      "outputs": [
        {
          "output_type": "execute_result",
          "data": {
            "text/plain": [
              "8901      2008\n",
              "16198     2008\n",
              "105984    2008\n",
              "124271    2008\n",
              "5551      2008\n",
              "84959     2008\n",
              "6964      2008\n",
              "18723     2008\n",
              "38273     2008\n",
              "145645    2008\n",
              "157523    2008\n",
              "101961    2008\n",
              "130928    2008\n",
              "1344      2008\n",
              "61772     2008\n",
              "37843     2008\n",
              "119419    2008\n",
              "1264      2008\n",
              "54554     2008\n",
              "36553     2008\n",
              "46744     2008\n",
              "156228    2008\n",
              "158615    2008\n",
              "6951      2008\n",
              "81430     2008\n",
              "Name: year, dtype: int64"
            ]
          },
          "metadata": {
            "tags": []
          },
          "execution_count": 37
        }
      ]
    },
    {
      "cell_type": "code",
      "metadata": {
        "colab": {
          "base_uri": "https://localhost:8080/",
          "height": 368
        },
        "id": "lNtD4sVzXVAi",
        "outputId": "5e5a1637-05ba-44b0-a9a9-1e89c19fcea2"
      },
      "source": [
        "print(\"Shape:\",df.shape)\r\n",
        "print(\"Summary:\")\r\n",
        "df.describe()"
      ],
      "execution_count": null,
      "outputs": [
        {
          "output_type": "stream",
          "text": [
            "Shape: (165474, 14)\n",
            "Summary:\n"
          ],
          "name": "stdout"
        },
        {
          "output_type": "execute_result",
          "data": {
            "text/html": [
              "<div>\n",
              "<style scoped>\n",
              "    .dataframe tbody tr th:only-of-type {\n",
              "        vertical-align: middle;\n",
              "    }\n",
              "\n",
              "    .dataframe tbody tr th {\n",
              "        vertical-align: top;\n",
              "    }\n",
              "\n",
              "    .dataframe thead th {\n",
              "        text-align: right;\n",
              "    }\n",
              "</style>\n",
              "<table border=\"1\" class=\"dataframe\">\n",
              "  <thead>\n",
              "    <tr style=\"text-align: right;\">\n",
              "      <th></th>\n",
              "      <th>year</th>\n",
              "      <th>month</th>\n",
              "      <th>day</th>\n",
              "      <th>order</th>\n",
              "      <th>country</th>\n",
              "      <th>session ID</th>\n",
              "      <th>page 1 (main category)</th>\n",
              "      <th>colour</th>\n",
              "      <th>location</th>\n",
              "      <th>model photography</th>\n",
              "      <th>price</th>\n",
              "      <th>price 2</th>\n",
              "      <th>page</th>\n",
              "    </tr>\n",
              "  </thead>\n",
              "  <tbody>\n",
              "    <tr>\n",
              "      <th>count</th>\n",
              "      <td>165474.0</td>\n",
              "      <td>165474.000000</td>\n",
              "      <td>165474.000000</td>\n",
              "      <td>165474.000000</td>\n",
              "      <td>165474.000000</td>\n",
              "      <td>165474.000000</td>\n",
              "      <td>165474.000000</td>\n",
              "      <td>165474.000000</td>\n",
              "      <td>165474.000000</td>\n",
              "      <td>165474.000000</td>\n",
              "      <td>165474.000000</td>\n",
              "      <td>165474.000000</td>\n",
              "      <td>165474.000000</td>\n",
              "    </tr>\n",
              "    <tr>\n",
              "      <th>mean</th>\n",
              "      <td>2008.0</td>\n",
              "      <td>5.585887</td>\n",
              "      <td>14.524554</td>\n",
              "      <td>9.817476</td>\n",
              "      <td>26.952621</td>\n",
              "      <td>12058.417056</td>\n",
              "      <td>2.400842</td>\n",
              "      <td>6.227655</td>\n",
              "      <td>3.258198</td>\n",
              "      <td>1.260071</td>\n",
              "      <td>43.802507</td>\n",
              "      <td>1.488167</td>\n",
              "      <td>1.710166</td>\n",
              "    </tr>\n",
              "    <tr>\n",
              "      <th>std</th>\n",
              "      <td>0.0</td>\n",
              "      <td>1.328160</td>\n",
              "      <td>8.830374</td>\n",
              "      <td>13.478411</td>\n",
              "      <td>7.150691</td>\n",
              "      <td>7008.418903</td>\n",
              "      <td>1.144420</td>\n",
              "      <td>4.235606</td>\n",
              "      <td>1.713206</td>\n",
              "      <td>0.438674</td>\n",
              "      <td>12.548131</td>\n",
              "      <td>0.499861</td>\n",
              "      <td>0.982412</td>\n",
              "    </tr>\n",
              "    <tr>\n",
              "      <th>min</th>\n",
              "      <td>2008.0</td>\n",
              "      <td>4.000000</td>\n",
              "      <td>1.000000</td>\n",
              "      <td>1.000000</td>\n",
              "      <td>1.000000</td>\n",
              "      <td>1.000000</td>\n",
              "      <td>1.000000</td>\n",
              "      <td>1.000000</td>\n",
              "      <td>1.000000</td>\n",
              "      <td>1.000000</td>\n",
              "      <td>18.000000</td>\n",
              "      <td>1.000000</td>\n",
              "      <td>1.000000</td>\n",
              "    </tr>\n",
              "    <tr>\n",
              "      <th>25%</th>\n",
              "      <td>2008.0</td>\n",
              "      <td>4.000000</td>\n",
              "      <td>7.000000</td>\n",
              "      <td>2.000000</td>\n",
              "      <td>29.000000</td>\n",
              "      <td>5931.000000</td>\n",
              "      <td>1.000000</td>\n",
              "      <td>3.000000</td>\n",
              "      <td>2.000000</td>\n",
              "      <td>1.000000</td>\n",
              "      <td>33.000000</td>\n",
              "      <td>1.000000</td>\n",
              "      <td>1.000000</td>\n",
              "    </tr>\n",
              "    <tr>\n",
              "      <th>50%</th>\n",
              "      <td>2008.0</td>\n",
              "      <td>5.000000</td>\n",
              "      <td>14.000000</td>\n",
              "      <td>6.000000</td>\n",
              "      <td>29.000000</td>\n",
              "      <td>11967.500000</td>\n",
              "      <td>2.000000</td>\n",
              "      <td>4.000000</td>\n",
              "      <td>3.000000</td>\n",
              "      <td>1.000000</td>\n",
              "      <td>43.000000</td>\n",
              "      <td>1.000000</td>\n",
              "      <td>1.000000</td>\n",
              "    </tr>\n",
              "    <tr>\n",
              "      <th>75%</th>\n",
              "      <td>2008.0</td>\n",
              "      <td>7.000000</td>\n",
              "      <td>22.000000</td>\n",
              "      <td>12.000000</td>\n",
              "      <td>29.000000</td>\n",
              "      <td>18219.000000</td>\n",
              "      <td>3.000000</td>\n",
              "      <td>9.000000</td>\n",
              "      <td>5.000000</td>\n",
              "      <td>2.000000</td>\n",
              "      <td>52.000000</td>\n",
              "      <td>2.000000</td>\n",
              "      <td>2.000000</td>\n",
              "    </tr>\n",
              "    <tr>\n",
              "      <th>max</th>\n",
              "      <td>2008.0</td>\n",
              "      <td>8.000000</td>\n",
              "      <td>31.000000</td>\n",
              "      <td>195.000000</td>\n",
              "      <td>47.000000</td>\n",
              "      <td>24026.000000</td>\n",
              "      <td>4.000000</td>\n",
              "      <td>14.000000</td>\n",
              "      <td>6.000000</td>\n",
              "      <td>2.000000</td>\n",
              "      <td>82.000000</td>\n",
              "      <td>2.000000</td>\n",
              "      <td>5.000000</td>\n",
              "    </tr>\n",
              "  </tbody>\n",
              "</table>\n",
              "</div>"
            ],
            "text/plain": [
              "           year          month  ...        price 2           page\n",
              "count  165474.0  165474.000000  ...  165474.000000  165474.000000\n",
              "mean     2008.0       5.585887  ...       1.488167       1.710166\n",
              "std         0.0       1.328160  ...       0.499861       0.982412\n",
              "min      2008.0       4.000000  ...       1.000000       1.000000\n",
              "25%      2008.0       4.000000  ...       1.000000       1.000000\n",
              "50%      2008.0       5.000000  ...       1.000000       1.000000\n",
              "75%      2008.0       7.000000  ...       2.000000       2.000000\n",
              "max      2008.0       8.000000  ...       2.000000       5.000000\n",
              "\n",
              "[8 rows x 13 columns]"
            ]
          },
          "metadata": {
            "tags": []
          },
          "execution_count": 38
        }
      ]
    },
    {
      "cell_type": "markdown",
      "metadata": {
        "id": "IGug6GKuXkLJ"
      },
      "source": [
        "### ***PLOTTING THE DATASET***\r\n",
        "The plotting is done on the basis of comparision of month with respect to order whch means comparing the amount of order of cloths taken in the year 2008 with month to find in which month ,more orders are taken"
      ]
    },
    {
      "cell_type": "code",
      "metadata": {
        "colab": {
          "base_uri": "https://localhost:8080/",
          "height": 295
        },
        "id": "jLFjulesXgod",
        "outputId": "91f1aa5e-1d97-4c1b-ac1b-f0bd745946e4"
      },
      "source": [
        "df.plot(x='month', y='order', style='*')  \r\n",
        "plt.title('Month vs order')  \r\n",
        "plt.xlabel('Month')  \r\n",
        "plt.ylabel('order')  \r\n",
        "plt.show()"
      ],
      "execution_count": null,
      "outputs": [
        {
          "output_type": "display_data",
          "data": {
            "image/png": "[encoded data removed]",
            "text/plain": [
              "<Figure size 432x288 with 1 Axes>"
            ]
          },
          "metadata": {
            "tags": [],
            "needs_background": "light"
          }
        }
      ]
    },
    {
      "cell_type": "code",
      "metadata": {
        "colab": {
          "base_uri": "https://localhost:8080/",
          "height": 295
        },
        "id": "DjGfzGypagy2",
        "outputId": "f533c4f3-4de8-499c-dd93-4154e844e296"
      },
      "source": [
        "sns.lineplot(x='month',y='order',data=df) \r\n",
        "plt.xlabel('Month')\r\n",
        "plt.ylabel('Order')\r\n",
        "plt.title(' Line Plot')\r\n",
        "plt.grid()"
      ],
      "execution_count": null,
      "outputs": [
        {
          "output_type": "display_data",
          "data": {
            "image/png": "[encoded data removed]",
            "text/plain": [
              "<Figure size 432x288 with 1 Axes>"
            ]
          },
          "metadata": {
            "tags": [],
            "needs_background": "light"
          }
        }
      ]
    },
    {
      "cell_type": "code",
      "metadata": {
        "colab": {
          "base_uri": "https://localhost:8080/",
          "height": 295
        },
        "id": "G7F5JooxbRqs",
        "outputId": "e2e1d9f5-083d-459d-cd39-9a766f87ab7c"
      },
      "source": [
        "sns.regplot(x='month',y='order',data=df)\r\n",
        "plt.xlabel('Month')\r\n",
        "plt.ylabel('Order')\r\n",
        "plt.title('Regression Plot')\r\n",
        "plt.grid()"
      ],
      "execution_count": null,
      "outputs": [
        {
          "output_type": "display_data",
          "data": {
            "image/png": "[encoded data removed]",
            "text/plain": [
              "<Figure size 432x288 with 1 Axes>"
            ]
          },
          "metadata": {
            "tags": [],
            "needs_background": "light"
          }
        }
      ]
    },
    {
      "cell_type": "markdown",
      "metadata": {
        "id": "8-F6YIZSbzFN"
      },
      "source": [
        "### ***PREAPARING THE DATA***"
      ]
    },
    {
      "cell_type": "code",
      "metadata": {
        "id": "fmlvmZTJbyZ0"
      },
      "source": [
        "X = df.iloc[:, 0:-1].values  \r\n",
        "y = df.iloc[:, 1].values"
      ],
      "execution_count": null,
      "outputs": []
    },
    {
      "cell_type": "markdown",
      "metadata": {
        "id": "DVQvHQuyb_VV"
      },
      "source": [
        "### ***SPLITING THE DATA***\r\n",
        "Now that we have our attributes and labels, the next step is to split this data into training and test sets. We'll do this by using Scikit-Learn's built-in train_test_split() method:"
      ]
    },
    {
      "cell_type": "code",
      "metadata": {
        "id": "cAuZMjqwcHDJ"
      },
      "source": [
        "from sklearn.model_selection import train_test_split  \r\n",
        "X_train, X_test, y_train, y_test = train_test_split(X, y,test_size=0.2, random_state=0)"
      ],
      "execution_count": null,
      "outputs": []
    },
    {
      "cell_type": "markdown",
      "metadata": {
        "id": "A5nG-uoScKFz"
      },
      "source": [
        "### ***Training the Algorithm***\r\n",
        "We have split our data into training and testing sets, and now is finally the time to train our algorithm."
      ]
    },
    {
      "cell_type": "code",
      "metadata": {
        "colab": {
          "base_uri": "https://localhost:8080/"
        },
        "id": "IUNTwh_NcO9m",
        "outputId": "e4bfb346-2891-4bc8-d5b8-f0984df3f7a7"
      },
      "source": [
        "from sklearn.linear_model import LinearRegression  \r\n",
        "regressor = LinearRegression().fit(X_train, y_train) \r\n",
        "\r\n",
        "print(\"Training complete.\")"
      ],
      "execution_count": null,
      "outputs": [
        {
          "output_type": "stream",
          "text": [
            "Training complete.\n"
          ],
          "name": "stdout"
        }
      ]
    },
    {
      "cell_type": "markdown",
      "metadata": {
        "id": "vZHomActyHbn"
      },
      "source": [
        "### ***PLOTTING THE REGRESSION LINE(TRAINING DATA & TESTING DATA)***\r\n",
        "The equation of the linear regression line is in the form Y =mX+c, where X is the explanatory(independent) variable and Y is the dependent variable. The slope of the line is m, and c is the intercept (the value of y when x = 0)."
      ]
    },
    {
      "cell_type": "markdown",
      "metadata": {
        "id": "E42DjAtLyNLU"
      },
      "source": [
        "##### **PLOT FOR TRAINING DATA**"
      ]
    },
    {
      "cell_type": "code",
      "metadata": {
        "colab": {
          "base_uri": "https://localhost:8080/",
          "height": 279
        },
        "id": "0BT8AiWdu3El",
        "outputId": "a7a5aa3e-b6ba-4d2b-ae2f-8ebc85323d87"
      },
      "source": [
        "# Plotting the regression line on training data\r\n",
        "line = regressor.coef_*X+regressor.intercept_ #the line equation is in the form of Y=mX+c\r\n",
        "\r\n",
        "# Plotting for the test data\r\n",
        "plt.scatter(X_train, y_train)\r\n",
        "plt.plot(X, line);\r\n",
        "plt.xlabel(\"Month\")\r\n",
        "plt.ylabel(\"Order\")\r\n",
        "plt.grid()"
      ],
      "execution_count": null,
      "outputs": [
        {
          "output_type": "display_data",
          "data": {
            "image/png": "[encoded data removed]",
            "text/plain": [
              "<Figure size 432x288 with 1 Axes>"
            ]
          },
          "metadata": {
            "tags": [],
            "needs_background": "light"
          }
        }
      ]
    },
    {
      "cell_type": "markdown",
      "metadata": {
        "id": "BZz1A9GVynYd"
      },
      "source": [
        "##### **PLOT FOR TESTING DATA**"
      ]
    },
    {
      "cell_type": "code",
      "metadata": {
        "colab": {
          "base_uri": "https://localhost:8080/",
          "height": 279
        },
        "id": "GUzfD86bvHDW",
        "outputId": "dfc687a5-af70-4b63-9d46-a2c03afec3be"
      },
      "source": [
        "# Plotting the regression line on test data\r\n",
        "line = regressor.coef_*X+regressor.intercept_ #the line equation is in the form of Y=mX+c\r\n",
        "\r\n",
        "# Plotting for the test data\r\n",
        "plt.scatter(X_test, y_test)\r\n",
        "plt.plot(X, line);\r\n",
        "plt.xlabel(\"Hours Month\")\r\n",
        "plt.ylabel(\"Order\")\r\n",
        "plt.grid()"
      ],
      "execution_count": null,
      "outputs": [
        {
          "output_type": "display_data",
          "data": {
            "image/png": "[encoded data removed]",
            "text/plain": [
              "<Figure size 432x288 with 1 Axes>"
            ]
          },
          "metadata": {
            "tags": [],
            "needs_background": "light"
          }
        }
      ]
    },
    {
      "cell_type": "markdown",
      "metadata": {
        "id": "YzRjOyS9ywu3"
      },
      "source": [
        "### ***MAKING PREDICTIONS***\r\n",
        "Now that we have trained our algorithm, it's time to make some predictions."
      ]
    },
    {
      "cell_type": "code",
      "metadata": {
        "colab": {
          "base_uri": "https://localhost:8080/"
        },
        "id": "BsalKAY_vObO",
        "outputId": "af7a16ea-d674-4ea0-e6f5-8838f5c77c08"
      },
      "source": [
        "print(X_test) # Testing data - In month\r\n",
        "y_pred = regressor.predict(X_test) # Predicting the orders"
      ],
      "execution_count": null,
      "outputs": [
        {
          "output_type": "stream",
          "text": [
            "[[8.]\n",
            " [7.]\n",
            " [6.]\n",
            " [6.]\n",
            " [5.]\n",
            " [4.]\n",
            " [7.]\n",
            " [6.]\n",
            " [8.]\n",
            " [5.]\n",
            " [5.]\n",
            " [5.]\n",
            " [4.]\n",
            " [4.]\n",
            " [4.]\n",
            " [5.]\n",
            " [4.]\n",
            " [6.]\n",
            " [4.]\n",
            " [7.]\n",
            " [4.]\n",
            " [4.]\n",
            " [7.]\n",
            " [5.]\n",
            " [4.]\n",
            " [4.]\n",
            " [5.]\n",
            " [7.]\n",
            " [6.]\n",
            " [6.]\n",
            " [7.]\n",
            " [6.]\n",
            " [4.]\n",
            " [4.]\n",
            " [4.]\n",
            " [5.]\n",
            " [4.]\n",
            " [5.]\n",
            " [7.]\n",
            " [4.]\n",
            " [5.]\n",
            " [6.]\n",
            " [4.]\n",
            " [5.]\n",
            " [7.]\n",
            " [7.]\n",
            " [8.]\n",
            " [4.]\n",
            " [7.]\n",
            " [8.]\n",
            " [4.]\n",
            " [8.]\n",
            " [5.]\n",
            " [7.]\n",
            " [4.]\n",
            " [7.]\n",
            " [4.]\n",
            " [6.]\n",
            " [6.]\n",
            " [7.]\n",
            " [8.]\n",
            " [4.]\n",
            " [4.]\n",
            " [4.]\n",
            " [7.]\n",
            " [7.]\n",
            " [7.]\n",
            " [5.]\n",
            " [7.]\n",
            " [5.]\n",
            " [5.]\n",
            " [6.]\n",
            " [7.]\n",
            " [7.]\n",
            " [4.]\n",
            " [4.]\n",
            " [7.]\n",
            " [6.]\n",
            " [6.]\n",
            " [7.]\n",
            " [7.]\n",
            " [4.]\n",
            " [7.]\n",
            " [4.]\n",
            " [6.]\n",
            " [7.]\n",
            " [4.]\n",
            " [6.]\n",
            " [6.]\n",
            " [6.]\n",
            " [6.]\n",
            " [7.]\n",
            " [7.]\n",
            " [5.]\n",
            " [7.]\n",
            " [4.]\n",
            " [6.]\n",
            " [5.]\n",
            " [8.]\n",
            " [6.]\n",
            " [8.]\n",
            " [5.]\n",
            " [7.]\n",
            " [5.]\n",
            " [4.]\n",
            " [7.]\n",
            " [7.]\n",
            " [5.]\n",
            " [4.]\n",
            " [4.]\n",
            " [6.]\n",
            " [4.]]\n"
          ],
          "name": "stdout"
        }
      ]
    },
    {
      "cell_type": "code",
      "metadata": {
        "colab": {
          "base_uri": "https://localhost:8080/",
          "height": 419
        },
        "id": "sZsxro6ivWG7",
        "outputId": "3884835e-8a57-4ddc-a2d4-5f492048d767"
      },
      "source": [
        "# Comparing Actual vs Predicted\r\n",
        "df = pd.DataFrame({'Actual': y_test, 'Predicted': y_pred})  \r\n",
        "df\r\n"
      ],
      "execution_count": null,
      "outputs": [
        {
          "output_type": "execute_result",
          "data": {
            "text/html": [
              "<div>\n",
              "<style scoped>\n",
              "    .dataframe tbody tr th:only-of-type {\n",
              "        vertical-align: middle;\n",
              "    }\n",
              "\n",
              "    .dataframe tbody tr th {\n",
              "        vertical-align: top;\n",
              "    }\n",
              "\n",
              "    .dataframe thead th {\n",
              "        text-align: right;\n",
              "    }\n",
              "</style>\n",
              "<table border=\"1\" class=\"dataframe\">\n",
              "  <thead>\n",
              "    <tr style=\"text-align: right;\">\n",
              "      <th></th>\n",
              "      <th>Actual</th>\n",
              "      <th>Predicted</th>\n",
              "    </tr>\n",
              "  </thead>\n",
              "  <tbody>\n",
              "    <tr>\n",
              "      <th>0</th>\n",
              "      <td>8.0</td>\n",
              "      <td>8.0</td>\n",
              "    </tr>\n",
              "    <tr>\n",
              "      <th>1</th>\n",
              "      <td>7.0</td>\n",
              "      <td>7.0</td>\n",
              "    </tr>\n",
              "    <tr>\n",
              "      <th>2</th>\n",
              "      <td>6.0</td>\n",
              "      <td>6.0</td>\n",
              "    </tr>\n",
              "    <tr>\n",
              "      <th>3</th>\n",
              "      <td>6.0</td>\n",
              "      <td>6.0</td>\n",
              "    </tr>\n",
              "    <tr>\n",
              "      <th>4</th>\n",
              "      <td>5.0</td>\n",
              "      <td>5.0</td>\n",
              "    </tr>\n",
              "    <tr>\n",
              "      <th>...</th>\n",
              "      <td>...</td>\n",
              "      <td>...</td>\n",
              "    </tr>\n",
              "    <tr>\n",
              "      <th>107</th>\n",
              "      <td>5.0</td>\n",
              "      <td>5.0</td>\n",
              "    </tr>\n",
              "    <tr>\n",
              "      <th>108</th>\n",
              "      <td>4.0</td>\n",
              "      <td>4.0</td>\n",
              "    </tr>\n",
              "    <tr>\n",
              "      <th>109</th>\n",
              "      <td>4.0</td>\n",
              "      <td>4.0</td>\n",
              "    </tr>\n",
              "    <tr>\n",
              "      <th>110</th>\n",
              "      <td>6.0</td>\n",
              "      <td>6.0</td>\n",
              "    </tr>\n",
              "    <tr>\n",
              "      <th>111</th>\n",
              "      <td>4.0</td>\n",
              "      <td>4.0</td>\n",
              "    </tr>\n",
              "  </tbody>\n",
              "</table>\n",
              "<p>112 rows × 2 columns</p>\n",
              "</div>"
            ],
            "text/plain": [
              "     Actual  Predicted\n",
              "0       8.0        8.0\n",
              "1       7.0        7.0\n",
              "2       6.0        6.0\n",
              "3       6.0        6.0\n",
              "4       5.0        5.0\n",
              "..      ...        ...\n",
              "107     5.0        5.0\n",
              "108     4.0        4.0\n",
              "109     4.0        4.0\n",
              "110     6.0        6.0\n",
              "111     4.0        4.0\n",
              "\n",
              "[112 rows x 2 columns]"
            ]
          },
          "metadata": {
            "tags": []
          },
          "execution_count": 172
        }
      ]
    },
    {
      "cell_type": "markdown",
      "metadata": {
        "id": "isE3YMXVzKQL"
      },
      "source": [
        "### ***FINDING MODEL ACCURACY***\r\n",
        "This step is done to find out if the model we created is a good fit model or not.If the accuracy of a model has more than 90 accuracy, it is considered as a good fit model"
      ]
    },
    {
      "cell_type": "code",
      "metadata": {
        "colab": {
          "base_uri": "https://localhost:8080/"
        },
        "id": "1TygyaHpvfNE",
        "outputId": "37ed012a-4bf4-4a68-a958-8cbc4a98a276"
      },
      "source": [
        "#finding the model accuracy\r\n",
        "from sklearn import metrics\r\n",
        "accuracy=metrics.r2_score(y_test,y_pred)\r\n",
        "print(\"Accuracy Score of Model: \",accuracy*100,'%')"
      ],
      "execution_count": null,
      "outputs": [
        {
          "output_type": "stream",
          "text": [
            "Accuracy Score of Model:  100.0 %\n"
          ],
          "name": "stdout"
        }
      ]
    },
    {
      "cell_type": "markdown",
      "metadata": {
        "id": "8b0jt7I1zcgJ"
      },
      "source": [
        "### ***EVALUATING THE MODEL***\r\n",
        "The final step is to evaluate the performance of algorithm. This step is particularly important to compare how well different algorithms perform on a particular dataset. For simplicity here, we have chosen the mean square error. There are many such metrics."
      ]
    },
    {
      "cell_type": "code",
      "metadata": {
        "colab": {
          "base_uri": "https://localhost:8080/"
        },
        "id": "Ev8dskw2vnQ4",
        "outputId": "1fe1303b-663b-4eb3-bfe6-1ac622b4df16"
      },
      "source": [
        "from sklearn import metrics  \r\n",
        "print('Mean Absolute Error:',metrics.mean_absolute_error(y_test, y_pred)) \r\n",
        "print('Mean Squared Error:',metrics.mean_squared_error(y_test,y_pred))\r\n",
        "print('R-Squared Error:',np.sqrt(metrics.mean_squared_error(y_test,y_pred)))"
      ],
      "execution_count": null,
      "outputs": [
        {
          "output_type": "stream",
          "text": [
            "Mean Absolute Error: 6.941773731073072e-15\n",
            "Mean Squared Error: 6.068584169448867e-29\n",
            "R-Squared Error: 7.790111789601525e-15\n"
          ],
          "name": "stdout"
        }
      ]
    },
    {
      "cell_type": "markdown",
      "metadata": {
        "id": "PEiu4Tr72ZlJ"
      },
      "source": [
        "#### **Example :**\r\n",
        "What will be the predicted orders according to the model in the month of december?"
      ]
    },
    {
      "cell_type": "code",
      "metadata": {
        "colab": {
          "base_uri": "https://localhost:8080/"
        },
        "id": "7wsav02IxFQc",
        "outputId": "e018dbd0-7805-410c-845c-ad4a121b0fc8"
      },
      "source": [
        "month=12\r\n",
        "own_pred = regressor.predict([[month]])\r\n",
        "print(\"Number representing the month= {}\".format(month))\r\n",
        "print(\"Orders taken in the above month = {}\".format(own_pred[0]))"
      ],
      "execution_count": null,
      "outputs": [
        {
          "output_type": "stream",
          "text": [
            "Number representing the month= 12\n",
            "Orders taken in the above month = 11.999999999999936\n"
          ],
          "name": "stdout"
        }
      ]
    },
    {
      "cell_type": "markdown",
      "metadata": {
        "id": "dMPc3kY1GWrm"
      },
      "source": [
        "###### **CONCLUSION**\r\n",
        "Supervised Machine Learning algorithm was performed on the given data set to create a model for predicting the orders taken in various months and the model created here has got an accuracy of 100 %,which means it is a good fit model."
      ]
    }
  ]
}